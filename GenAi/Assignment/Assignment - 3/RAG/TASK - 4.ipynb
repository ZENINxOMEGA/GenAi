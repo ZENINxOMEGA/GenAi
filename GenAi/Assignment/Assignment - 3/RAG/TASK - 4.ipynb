{
 "cells": [
  {
   "cell_type": "code",
   "execution_count": 12,
   "metadata": {
    "colab": {
     "base_uri": "https://localhost:8080/"
    },
    "id": "In5BNQ0KdLg3",
    "outputId": "09761f61-854d-4b5c-e4ab-0c01c305a10d"
   },
   "outputs": [
    {
     "name": "stdout",
     "output_type": "stream",
     "text": [
      "Requirement already satisfied: langchain in c:\\users\\anike\\appdata\\local\\programs\\python\\python312\\lib\\site-packages (0.3.27)\n",
      "Requirement already satisfied: chromadb in c:\\users\\anike\\appdata\\local\\programs\\python\\python312\\lib\\site-packages (1.0.15)\n",
      "Requirement already satisfied: sentence-transformers in c:\\users\\anike\\appdata\\local\\programs\\python\\python312\\lib\\site-packages (5.0.0)\n",
      "Requirement already satisfied: pypdf in c:\\users\\anike\\appdata\\local\\programs\\python\\python312\\lib\\site-packages (5.9.0)\n",
      "Requirement already satisfied: openai in c:\\users\\anike\\appdata\\local\\programs\\python\\python312\\lib\\site-packages (1.98.0)\n",
      "Requirement already satisfied: numpy in c:\\users\\anike\\appdata\\local\\programs\\python\\python312\\lib\\site-packages (1.26.4)\n",
      "Requirement already satisfied: pandas in c:\\users\\anike\\appdata\\local\\programs\\python\\python312\\lib\\site-packages (2.2.0)\n",
      "Requirement already satisfied: langchain-core<1.0.0,>=0.3.72 in c:\\users\\anike\\appdata\\local\\programs\\python\\python312\\lib\\site-packages (from langchain) (0.3.72)\n",
      "Requirement already satisfied: langchain-text-splitters<1.0.0,>=0.3.9 in c:\\users\\anike\\appdata\\local\\programs\\python\\python312\\lib\\site-packages (from langchain) (0.3.9)\n",
      "Requirement already satisfied: langsmith>=0.1.17 in c:\\users\\anike\\appdata\\local\\programs\\python\\python312\\lib\\site-packages (from langchain) (0.4.10)\n",
      "Requirement already satisfied: pydantic<3.0.0,>=2.7.4 in c:\\users\\anike\\appdata\\local\\programs\\python\\python312\\lib\\site-packages (from langchain) (2.11.7)\n",
      "Requirement already satisfied: SQLAlchemy<3,>=1.4 in c:\\users\\anike\\appdata\\local\\programs\\python\\python312\\lib\\site-packages (from langchain) (2.0.42)\n",
      "Requirement already satisfied: requests<3,>=2 in c:\\users\\anike\\appdata\\local\\programs\\python\\python312\\lib\\site-packages (from langchain) (2.32.4)\n",
      "Requirement already satisfied: PyYAML>=5.3 in c:\\users\\anike\\appdata\\local\\programs\\python\\python312\\lib\\site-packages (from langchain) (6.0.2)\n",
      "Requirement already satisfied: tenacity!=8.4.0,<10.0.0,>=8.1.0 in c:\\users\\anike\\appdata\\local\\programs\\python\\python312\\lib\\site-packages (from langchain-core<1.0.0,>=0.3.72->langchain) (9.1.2)\n",
      "Requirement already satisfied: jsonpatch<2.0,>=1.33 in c:\\users\\anike\\appdata\\local\\programs\\python\\python312\\lib\\site-packages (from langchain-core<1.0.0,>=0.3.72->langchain) (1.33)\n",
      "Requirement already satisfied: typing-extensions>=4.7 in c:\\users\\anike\\appdata\\local\\programs\\python\\python312\\lib\\site-packages (from langchain-core<1.0.0,>=0.3.72->langchain) (4.14.0)\n",
      "Requirement already satisfied: packaging>=23.2 in c:\\users\\anike\\appdata\\local\\programs\\python\\python312\\lib\\site-packages (from langchain-core<1.0.0,>=0.3.72->langchain) (25.0)\n",
      "Requirement already satisfied: jsonpointer>=1.9 in c:\\users\\anike\\appdata\\local\\programs\\python\\python312\\lib\\site-packages (from jsonpatch<2.0,>=1.33->langchain-core<1.0.0,>=0.3.72->langchain) (3.0.0)\n",
      "Requirement already satisfied: annotated-types>=0.6.0 in c:\\users\\anike\\appdata\\local\\programs\\python\\python312\\lib\\site-packages (from pydantic<3.0.0,>=2.7.4->langchain) (0.7.0)\n",
      "Requirement already satisfied: pydantic-core==2.33.2 in c:\\users\\anike\\appdata\\local\\programs\\python\\python312\\lib\\site-packages (from pydantic<3.0.0,>=2.7.4->langchain) (2.33.2)\n",
      "Requirement already satisfied: typing-inspection>=0.4.0 in c:\\users\\anike\\appdata\\local\\programs\\python\\python312\\lib\\site-packages (from pydantic<3.0.0,>=2.7.4->langchain) (0.4.1)\n",
      "Requirement already satisfied: charset_normalizer<4,>=2 in c:\\users\\anike\\appdata\\local\\programs\\python\\python312\\lib\\site-packages (from requests<3,>=2->langchain) (3.4.2)\n",
      "Requirement already satisfied: idna<4,>=2.5 in c:\\users\\anike\\appdata\\local\\programs\\python\\python312\\lib\\site-packages (from requests<3,>=2->langchain) (3.10)\n",
      "Requirement already satisfied: urllib3<3,>=1.21.1 in c:\\users\\anike\\appdata\\local\\programs\\python\\python312\\lib\\site-packages (from requests<3,>=2->langchain) (2.5.0)\n",
      "Requirement already satisfied: certifi>=2017.4.17 in c:\\users\\anike\\appdata\\local\\programs\\python\\python312\\lib\\site-packages (from requests<3,>=2->langchain) (2025.6.15)\n",
      "Requirement already satisfied: greenlet>=1 in c:\\users\\anike\\appdata\\local\\programs\\python\\python312\\lib\\site-packages (from SQLAlchemy<3,>=1.4->langchain) (3.2.3)\n",
      "Requirement already satisfied: build>=1.0.3 in c:\\users\\anike\\appdata\\local\\programs\\python\\python312\\lib\\site-packages (from chromadb) (1.3.0)\n",
      "Requirement already satisfied: pybase64>=1.4.1 in c:\\users\\anike\\appdata\\local\\programs\\python\\python312\\lib\\site-packages (from chromadb) (1.4.2)\n",
      "Requirement already satisfied: uvicorn>=0.18.3 in c:\\users\\anike\\appdata\\local\\programs\\python\\python312\\lib\\site-packages (from uvicorn[standard]>=0.18.3->chromadb) (0.35.0)\n",
      "Requirement already satisfied: posthog<6.0.0,>=2.4.0 in c:\\users\\anike\\appdata\\local\\programs\\python\\python312\\lib\\site-packages (from chromadb) (5.4.0)\n",
      "Requirement already satisfied: onnxruntime>=1.14.1 in c:\\users\\anike\\appdata\\local\\programs\\python\\python312\\lib\\site-packages (from chromadb) (1.22.1)\n",
      "Requirement already satisfied: opentelemetry-api>=1.2.0 in c:\\users\\anike\\appdata\\local\\programs\\python\\python312\\lib\\site-packages (from chromadb) (1.36.0)\n",
      "Requirement already satisfied: opentelemetry-exporter-otlp-proto-grpc>=1.2.0 in c:\\users\\anike\\appdata\\local\\programs\\python\\python312\\lib\\site-packages (from chromadb) (1.36.0)\n",
      "Requirement already satisfied: opentelemetry-sdk>=1.2.0 in c:\\users\\anike\\appdata\\local\\programs\\python\\python312\\lib\\site-packages (from chromadb) (1.36.0)\n",
      "Requirement already satisfied: tokenizers>=0.13.2 in c:\\users\\anike\\appdata\\local\\programs\\python\\python312\\lib\\site-packages (from chromadb) (0.21.4)\n",
      "Requirement already satisfied: pypika>=0.48.9 in c:\\users\\anike\\appdata\\local\\programs\\python\\python312\\lib\\site-packages (from chromadb) (0.48.9)\n",
      "Requirement already satisfied: tqdm>=4.65.0 in c:\\users\\anike\\appdata\\local\\programs\\python\\python312\\lib\\site-packages (from chromadb) (4.67.1)\n",
      "Requirement already satisfied: overrides>=7.3.1 in c:\\users\\anike\\appdata\\local\\programs\\python\\python312\\lib\\site-packages (from chromadb) (7.7.0)\n",
      "Requirement already satisfied: importlib-resources in c:\\users\\anike\\appdata\\local\\programs\\python\\python312\\lib\\site-packages (from chromadb) (6.5.2)\n",
      "Requirement already satisfied: grpcio>=1.58.0 in c:\\users\\anike\\appdata\\local\\programs\\python\\python312\\lib\\site-packages (from chromadb) (1.73.0)\n",
      "Requirement already satisfied: bcrypt>=4.0.1 in c:\\users\\anike\\appdata\\local\\programs\\python\\python312\\lib\\site-packages (from chromadb) (4.3.0)\n",
      "Requirement already satisfied: typer>=0.9.0 in c:\\users\\anike\\appdata\\local\\programs\\python\\python312\\lib\\site-packages (from chromadb) (0.16.0)\n",
      "Requirement already satisfied: kubernetes>=28.1.0 in c:\\users\\anike\\appdata\\local\\programs\\python\\python312\\lib\\site-packages (from chromadb) (33.1.0)\n",
      "Requirement already satisfied: mmh3>=4.0.1 in c:\\users\\anike\\appdata\\local\\programs\\python\\python312\\lib\\site-packages (from chromadb) (5.2.0)\n",
      "Requirement already satisfied: orjson>=3.9.12 in c:\\users\\anike\\appdata\\local\\programs\\python\\python312\\lib\\site-packages (from chromadb) (3.11.1)\n",
      "Requirement already satisfied: httpx>=0.27.0 in c:\\users\\anike\\appdata\\local\\programs\\python\\python312\\lib\\site-packages (from chromadb) (0.28.1)\n",
      "Requirement already satisfied: rich>=10.11.0 in c:\\users\\anike\\appdata\\local\\programs\\python\\python312\\lib\\site-packages (from chromadb) (14.0.0)\n",
      "Requirement already satisfied: jsonschema>=4.19.0 in c:\\users\\anike\\appdata\\local\\programs\\python\\python312\\lib\\site-packages (from chromadb) (4.25.0)\n",
      "Requirement already satisfied: six>=1.5 in c:\\users\\anike\\appdata\\local\\programs\\python\\python312\\lib\\site-packages (from posthog<6.0.0,>=2.4.0->chromadb) (1.17.0)\n",
      "Requirement already satisfied: python-dateutil>=2.2 in c:\\users\\anike\\appdata\\local\\programs\\python\\python312\\lib\\site-packages (from posthog<6.0.0,>=2.4.0->chromadb) (2.8.2)\n",
      "Requirement already satisfied: backoff>=1.10.0 in c:\\users\\anike\\appdata\\local\\programs\\python\\python312\\lib\\site-packages (from posthog<6.0.0,>=2.4.0->chromadb) (2.2.1)\n",
      "Requirement already satisfied: distro>=1.5.0 in c:\\users\\anike\\appdata\\local\\programs\\python\\python312\\lib\\site-packages (from posthog<6.0.0,>=2.4.0->chromadb) (1.9.0)\n",
      "Requirement already satisfied: transformers<5.0.0,>=4.41.0 in c:\\users\\anike\\appdata\\local\\programs\\python\\python312\\lib\\site-packages (from sentence-transformers) (4.54.1)\n",
      "Requirement already satisfied: torch>=1.11.0 in c:\\users\\anike\\appdata\\local\\programs\\python\\python312\\lib\\site-packages (from sentence-transformers) (2.7.1)\n",
      "Requirement already satisfied: scikit-learn in c:\\users\\anike\\appdata\\local\\programs\\python\\python312\\lib\\site-packages (from sentence-transformers) (1.7.0)\n",
      "Requirement already satisfied: scipy in c:\\users\\anike\\appdata\\local\\programs\\python\\python312\\lib\\site-packages (from sentence-transformers) (1.16.0)\n",
      "Requirement already satisfied: huggingface-hub>=0.20.0 in c:\\users\\anike\\appdata\\local\\programs\\python\\python312\\lib\\site-packages (from sentence-transformers) (0.34.3)\n",
      "Requirement already satisfied: Pillow in c:\\users\\anike\\appdata\\local\\programs\\python\\python312\\lib\\site-packages (from sentence-transformers) (10.2.0)\n",
      "Requirement already satisfied: filelock in c:\\users\\anike\\appdata\\local\\programs\\python\\python312\\lib\\site-packages (from transformers<5.0.0,>=4.41.0->sentence-transformers) (3.18.0)\n",
      "Requirement already satisfied: regex!=2019.12.17 in c:\\users\\anike\\appdata\\local\\programs\\python\\python312\\lib\\site-packages (from transformers<5.0.0,>=4.41.0->sentence-transformers) (2024.11.6)\n",
      "Requirement already satisfied: safetensors>=0.4.3 in c:\\users\\anike\\appdata\\local\\programs\\python\\python312\\lib\\site-packages (from transformers<5.0.0,>=4.41.0->sentence-transformers) (0.5.3)\n",
      "Requirement already satisfied: fsspec>=2023.5.0 in c:\\users\\anike\\appdata\\local\\programs\\python\\python312\\lib\\site-packages (from huggingface-hub>=0.20.0->sentence-transformers) (2025.5.1)\n",
      "Requirement already satisfied: anyio<5,>=3.5.0 in c:\\users\\anike\\appdata\\local\\programs\\python\\python312\\lib\\site-packages (from openai) (4.9.0)\n",
      "Requirement already satisfied: jiter<1,>=0.4.0 in c:\\users\\anike\\appdata\\local\\programs\\python\\python312\\lib\\site-packages (from openai) (0.10.0)\n",
      "Requirement already satisfied: sniffio in c:\\users\\anike\\appdata\\local\\programs\\python\\python312\\lib\\site-packages (from openai) (1.3.1)\n",
      "Requirement already satisfied: httpcore==1.* in c:\\users\\anike\\appdata\\local\\programs\\python\\python312\\lib\\site-packages (from httpx>=0.27.0->chromadb) (1.0.9)\n",
      "Requirement already satisfied: h11>=0.16 in c:\\users\\anike\\appdata\\local\\programs\\python\\python312\\lib\\site-packages (from httpcore==1.*->httpx>=0.27.0->chromadb) (0.16.0)\n",
      "Requirement already satisfied: pytz>=2020.1 in c:\\users\\anike\\appdata\\local\\programs\\python\\python312\\lib\\site-packages (from pandas) (2024.1)\n",
      "Requirement already satisfied: tzdata>=2022.7 in c:\\users\\anike\\appdata\\local\\programs\\python\\python312\\lib\\site-packages (from pandas) (2024.1)\n",
      "Requirement already satisfied: pyproject_hooks in c:\\users\\anike\\appdata\\local\\programs\\python\\python312\\lib\\site-packages (from build>=1.0.3->chromadb) (1.2.0)\n",
      "Requirement already satisfied: colorama in c:\\users\\anike\\appdata\\local\\programs\\python\\python312\\lib\\site-packages (from build>=1.0.3->chromadb) (0.4.6)\n",
      "Requirement already satisfied: attrs>=22.2.0 in c:\\users\\anike\\appdata\\local\\programs\\python\\python312\\lib\\site-packages (from jsonschema>=4.19.0->chromadb) (25.3.0)\n",
      "Requirement already satisfied: jsonschema-specifications>=2023.03.6 in c:\\users\\anike\\appdata\\local\\programs\\python\\python312\\lib\\site-packages (from jsonschema>=4.19.0->chromadb) (2025.4.1)\n",
      "Requirement already satisfied: referencing>=0.28.4 in c:\\users\\anike\\appdata\\local\\programs\\python\\python312\\lib\\site-packages (from jsonschema>=4.19.0->chromadb) (0.36.2)\n",
      "Requirement already satisfied: rpds-py>=0.7.1 in c:\\users\\anike\\appdata\\local\\programs\\python\\python312\\lib\\site-packages (from jsonschema>=4.19.0->chromadb) (0.26.0)\n",
      "Requirement already satisfied: google-auth>=1.0.1 in c:\\users\\anike\\appdata\\local\\programs\\python\\python312\\lib\\site-packages (from kubernetes>=28.1.0->chromadb) (2.40.3)\n",
      "Requirement already satisfied: websocket-client!=0.40.0,!=0.41.*,!=0.42.*,>=0.32.0 in c:\\users\\anike\\appdata\\local\\programs\\python\\python312\\lib\\site-packages (from kubernetes>=28.1.0->chromadb) (1.8.0)\n",
      "Requirement already satisfied: requests-oauthlib in c:\\users\\anike\\appdata\\local\\programs\\python\\python312\\lib\\site-packages (from kubernetes>=28.1.0->chromadb) (2.0.0)\n",
      "Requirement already satisfied: oauthlib>=3.2.2 in c:\\users\\anike\\appdata\\local\\programs\\python\\python312\\lib\\site-packages (from kubernetes>=28.1.0->chromadb) (3.3.1)\n",
      "Requirement already satisfied: durationpy>=0.7 in c:\\users\\anike\\appdata\\local\\programs\\python\\python312\\lib\\site-packages (from kubernetes>=28.1.0->chromadb) (0.10)\n",
      "Requirement already satisfied: cachetools<6.0,>=2.0.0 in c:\\users\\anike\\appdata\\local\\programs\\python\\python312\\lib\\site-packages (from google-auth>=1.0.1->kubernetes>=28.1.0->chromadb) (5.5.2)\n",
      "Requirement already satisfied: pyasn1-modules>=0.2.1 in c:\\users\\anike\\appdata\\local\\programs\\python\\python312\\lib\\site-packages (from google-auth>=1.0.1->kubernetes>=28.1.0->chromadb) (0.4.2)\n",
      "Requirement already satisfied: rsa<5,>=3.1.4 in c:\\users\\anike\\appdata\\local\\programs\\python\\python312\\lib\\site-packages (from google-auth>=1.0.1->kubernetes>=28.1.0->chromadb) (4.9.1)\n",
      "Requirement already satisfied: pyasn1>=0.1.3 in c:\\users\\anike\\appdata\\local\\programs\\python\\python312\\lib\\site-packages (from rsa<5,>=3.1.4->google-auth>=1.0.1->kubernetes>=28.1.0->chromadb) (0.6.1)\n",
      "Requirement already satisfied: requests-toolbelt>=1.0.0 in c:\\users\\anike\\appdata\\local\\programs\\python\\python312\\lib\\site-packages (from langsmith>=0.1.17->langchain) (1.0.0)\n",
      "Requirement already satisfied: zstandard>=0.23.0 in c:\\users\\anike\\appdata\\local\\programs\\python\\python312\\lib\\site-packages (from langsmith>=0.1.17->langchain) (0.23.0)\n",
      "Requirement already satisfied: coloredlogs in c:\\users\\anike\\appdata\\local\\programs\\python\\python312\\lib\\site-packages (from onnxruntime>=1.14.1->chromadb) (15.0.1)\n",
      "Requirement already satisfied: flatbuffers in c:\\users\\anike\\appdata\\local\\programs\\python\\python312\\lib\\site-packages (from onnxruntime>=1.14.1->chromadb) (25.2.10)\n",
      "Requirement already satisfied: protobuf in c:\\users\\anike\\appdata\\local\\programs\\python\\python312\\lib\\site-packages (from onnxruntime>=1.14.1->chromadb) (5.29.5)\n",
      "Requirement already satisfied: sympy in c:\\users\\anike\\appdata\\local\\programs\\python\\python312\\lib\\site-packages (from onnxruntime>=1.14.1->chromadb) (1.14.0)\n",
      "Requirement already satisfied: importlib-metadata<8.8.0,>=6.0 in c:\\users\\anike\\appdata\\local\\programs\\python\\python312\\lib\\site-packages (from opentelemetry-api>=1.2.0->chromadb) (8.7.0)\n",
      "Requirement already satisfied: zipp>=3.20 in c:\\users\\anike\\appdata\\local\\programs\\python\\python312\\lib\\site-packages (from importlib-metadata<8.8.0,>=6.0->opentelemetry-api>=1.2.0->chromadb) (3.23.0)\n",
      "Requirement already satisfied: googleapis-common-protos~=1.57 in c:\\users\\anike\\appdata\\local\\programs\\python\\python312\\lib\\site-packages (from opentelemetry-exporter-otlp-proto-grpc>=1.2.0->chromadb) (1.70.0)\n",
      "Requirement already satisfied: opentelemetry-exporter-otlp-proto-common==1.36.0 in c:\\users\\anike\\appdata\\local\\programs\\python\\python312\\lib\\site-packages (from opentelemetry-exporter-otlp-proto-grpc>=1.2.0->chromadb) (1.36.0)\n",
      "Requirement already satisfied: opentelemetry-proto==1.36.0 in c:\\users\\anike\\appdata\\local\\programs\\python\\python312\\lib\\site-packages (from opentelemetry-exporter-otlp-proto-grpc>=1.2.0->chromadb) (1.36.0)\n",
      "Requirement already satisfied: opentelemetry-semantic-conventions==0.57b0 in c:\\users\\anike\\appdata\\local\\programs\\python\\python312\\lib\\site-packages (from opentelemetry-sdk>=1.2.0->chromadb) (0.57b0)\n",
      "Requirement already satisfied: markdown-it-py>=2.2.0 in c:\\users\\anike\\appdata\\local\\programs\\python\\python312\\lib\\site-packages (from rich>=10.11.0->chromadb) (3.0.0)\n",
      "Requirement already satisfied: pygments<3.0.0,>=2.13.0 in c:\\users\\anike\\appdata\\local\\programs\\python\\python312\\lib\\site-packages (from rich>=10.11.0->chromadb) (2.19.2)\n",
      "Requirement already satisfied: mdurl~=0.1 in c:\\users\\anike\\appdata\\local\\programs\\python\\python312\\lib\\site-packages (from markdown-it-py>=2.2.0->rich>=10.11.0->chromadb) (0.1.2)\n",
      "Requirement already satisfied: networkx in c:\\users\\anike\\appdata\\local\\programs\\python\\python312\\lib\\site-packages (from torch>=1.11.0->sentence-transformers) (3.5)\n",
      "Requirement already satisfied: jinja2 in c:\\users\\anike\\appdata\\local\\programs\\python\\python312\\lib\\site-packages (from torch>=1.11.0->sentence-transformers) (3.1.6)\n",
      "Requirement already satisfied: setuptools in c:\\users\\anike\\appdata\\local\\programs\\python\\python312\\lib\\site-packages (from torch>=1.11.0->sentence-transformers) (80.9.0)\n",
      "Requirement already satisfied: mpmath<1.4,>=1.1.0 in c:\\users\\anike\\appdata\\local\\programs\\python\\python312\\lib\\site-packages (from sympy->onnxruntime>=1.14.1->chromadb) (1.3.0)\n",
      "Requirement already satisfied: click>=8.0.0 in c:\\users\\anike\\appdata\\local\\programs\\python\\python312\\lib\\site-packages (from typer>=0.9.0->chromadb) (8.2.1)\n",
      "Requirement already satisfied: shellingham>=1.3.0 in c:\\users\\anike\\appdata\\local\\programs\\python\\python312\\lib\\site-packages (from typer>=0.9.0->chromadb) (1.5.4)\n",
      "Requirement already satisfied: httptools>=0.6.3 in c:\\users\\anike\\appdata\\local\\programs\\python\\python312\\lib\\site-packages (from uvicorn[standard]>=0.18.3->chromadb) (0.6.4)\n",
      "Requirement already satisfied: python-dotenv>=0.13 in c:\\users\\anike\\appdata\\local\\programs\\python\\python312\\lib\\site-packages (from uvicorn[standard]>=0.18.3->chromadb) (1.1.1)\n",
      "Requirement already satisfied: watchfiles>=0.13 in c:\\users\\anike\\appdata\\local\\programs\\python\\python312\\lib\\site-packages (from uvicorn[standard]>=0.18.3->chromadb) (1.1.0)\n",
      "Requirement already satisfied: websockets>=10.4 in c:\\users\\anike\\appdata\\local\\programs\\python\\python312\\lib\\site-packages (from uvicorn[standard]>=0.18.3->chromadb) (15.0.1)\n",
      "Requirement already satisfied: humanfriendly>=9.1 in c:\\users\\anike\\appdata\\local\\programs\\python\\python312\\lib\\site-packages (from coloredlogs->onnxruntime>=1.14.1->chromadb) (10.0)\n",
      "Requirement already satisfied: pyreadline3 in c:\\users\\anike\\appdata\\local\\programs\\python\\python312\\lib\\site-packages (from humanfriendly>=9.1->coloredlogs->onnxruntime>=1.14.1->chromadb) (3.5.4)\n",
      "Requirement already satisfied: MarkupSafe>=2.0 in c:\\users\\anike\\appdata\\local\\programs\\python\\python312\\lib\\site-packages (from jinja2->torch>=1.11.0->sentence-transformers) (3.0.2)\n",
      "Requirement already satisfied: joblib>=1.2.0 in c:\\users\\anike\\appdata\\local\\programs\\python\\python312\\lib\\site-packages (from scikit-learn->sentence-transformers) (1.5.1)\n",
      "Requirement already satisfied: threadpoolctl>=3.1.0 in c:\\users\\anike\\appdata\\local\\programs\\python\\python312\\lib\\site-packages (from scikit-learn->sentence-transformers) (3.6.0)\n",
      "Note: you may need to restart the kernel to use updated packages.\n"
     ]
    },
    {
     "name": "stderr",
     "output_type": "stream",
     "text": [
      "\n",
      "[notice] A new release of pip is available: 25.1.1 -> 25.2\n",
      "[notice] To update, run: python.exe -m pip install --upgrade pip\n"
     ]
    }
   ],
   "source": [
    "%pip install langchain chromadb sentence-transformers pypdf openai numpy pandas"
   ]
  },
  {
   "cell_type": "code",
   "execution_count": 13,
   "metadata": {},
   "outputs": [
    {
     "name": "stdout",
     "output_type": "stream",
     "text": [
      "Requirement already satisfied: langchain-community in c:\\users\\anike\\appdata\\local\\programs\\python\\python312\\lib\\site-packages (0.3.27)\n",
      "Requirement already satisfied: langchain-core<1.0.0,>=0.3.66 in c:\\users\\anike\\appdata\\local\\programs\\python\\python312\\lib\\site-packages (from langchain-community) (0.3.72)\n",
      "Requirement already satisfied: langchain<1.0.0,>=0.3.26 in c:\\users\\anike\\appdata\\local\\programs\\python\\python312\\lib\\site-packages (from langchain-community) (0.3.27)\n",
      "Requirement already satisfied: SQLAlchemy<3,>=1.4 in c:\\users\\anike\\appdata\\local\\programs\\python\\python312\\lib\\site-packages (from langchain-community) (2.0.42)\n",
      "Requirement already satisfied: requests<3,>=2 in c:\\users\\anike\\appdata\\local\\programs\\python\\python312\\lib\\site-packages (from langchain-community) (2.32.4)\n",
      "Requirement already satisfied: PyYAML>=5.3 in c:\\users\\anike\\appdata\\local\\programs\\python\\python312\\lib\\site-packages (from langchain-community) (6.0.2)\n",
      "Requirement already satisfied: aiohttp<4.0.0,>=3.8.3 in c:\\users\\anike\\appdata\\local\\programs\\python\\python312\\lib\\site-packages (from langchain-community) (3.12.15)\n",
      "Requirement already satisfied: tenacity!=8.4.0,<10,>=8.1.0 in c:\\users\\anike\\appdata\\local\\programs\\python\\python312\\lib\\site-packages (from langchain-community) (9.1.2)\n",
      "Requirement already satisfied: dataclasses-json<0.7,>=0.5.7 in c:\\users\\anike\\appdata\\local\\programs\\python\\python312\\lib\\site-packages (from langchain-community) (0.6.7)\n",
      "Requirement already satisfied: pydantic-settings<3.0.0,>=2.4.0 in c:\\users\\anike\\appdata\\local\\programs\\python\\python312\\lib\\site-packages (from langchain-community) (2.10.1)\n",
      "Requirement already satisfied: langsmith>=0.1.125 in c:\\users\\anike\\appdata\\local\\programs\\python\\python312\\lib\\site-packages (from langchain-community) (0.4.10)\n",
      "Requirement already satisfied: httpx-sse<1.0.0,>=0.4.0 in c:\\users\\anike\\appdata\\local\\programs\\python\\python312\\lib\\site-packages (from langchain-community) (0.4.1)\n",
      "Requirement already satisfied: numpy>=1.26.2 in c:\\users\\anike\\appdata\\local\\programs\\python\\python312\\lib\\site-packages (from langchain-community) (1.26.4)\n",
      "Requirement already satisfied: aiohappyeyeballs>=2.5.0 in c:\\users\\anike\\appdata\\local\\programs\\python\\python312\\lib\\site-packages (from aiohttp<4.0.0,>=3.8.3->langchain-community) (2.6.1)\n",
      "Requirement already satisfied: aiosignal>=1.4.0 in c:\\users\\anike\\appdata\\local\\programs\\python\\python312\\lib\\site-packages (from aiohttp<4.0.0,>=3.8.3->langchain-community) (1.4.0)\n",
      "Requirement already satisfied: attrs>=17.3.0 in c:\\users\\anike\\appdata\\local\\programs\\python\\python312\\lib\\site-packages (from aiohttp<4.0.0,>=3.8.3->langchain-community) (25.3.0)\n",
      "Requirement already satisfied: frozenlist>=1.1.1 in c:\\users\\anike\\appdata\\local\\programs\\python\\python312\\lib\\site-packages (from aiohttp<4.0.0,>=3.8.3->langchain-community) (1.7.0)\n",
      "Requirement already satisfied: multidict<7.0,>=4.5 in c:\\users\\anike\\appdata\\local\\programs\\python\\python312\\lib\\site-packages (from aiohttp<4.0.0,>=3.8.3->langchain-community) (6.6.3)\n",
      "Requirement already satisfied: propcache>=0.2.0 in c:\\users\\anike\\appdata\\local\\programs\\python\\python312\\lib\\site-packages (from aiohttp<4.0.0,>=3.8.3->langchain-community) (0.3.2)\n",
      "Requirement already satisfied: yarl<2.0,>=1.17.0 in c:\\users\\anike\\appdata\\local\\programs\\python\\python312\\lib\\site-packages (from aiohttp<4.0.0,>=3.8.3->langchain-community) (1.20.1)\n",
      "Requirement already satisfied: marshmallow<4.0.0,>=3.18.0 in c:\\users\\anike\\appdata\\local\\programs\\python\\python312\\lib\\site-packages (from dataclasses-json<0.7,>=0.5.7->langchain-community) (3.26.1)\n",
      "Requirement already satisfied: typing-inspect<1,>=0.4.0 in c:\\users\\anike\\appdata\\local\\programs\\python\\python312\\lib\\site-packages (from dataclasses-json<0.7,>=0.5.7->langchain-community) (0.9.0)\n",
      "Requirement already satisfied: langchain-text-splitters<1.0.0,>=0.3.9 in c:\\users\\anike\\appdata\\local\\programs\\python\\python312\\lib\\site-packages (from langchain<1.0.0,>=0.3.26->langchain-community) (0.3.9)\n",
      "Requirement already satisfied: pydantic<3.0.0,>=2.7.4 in c:\\users\\anike\\appdata\\local\\programs\\python\\python312\\lib\\site-packages (from langchain<1.0.0,>=0.3.26->langchain-community) (2.11.7)\n",
      "Requirement already satisfied: jsonpatch<2.0,>=1.33 in c:\\users\\anike\\appdata\\local\\programs\\python\\python312\\lib\\site-packages (from langchain-core<1.0.0,>=0.3.66->langchain-community) (1.33)\n",
      "Requirement already satisfied: typing-extensions>=4.7 in c:\\users\\anike\\appdata\\local\\programs\\python\\python312\\lib\\site-packages (from langchain-core<1.0.0,>=0.3.66->langchain-community) (4.14.0)\n",
      "Requirement already satisfied: packaging>=23.2 in c:\\users\\anike\\appdata\\local\\programs\\python\\python312\\lib\\site-packages (from langchain-core<1.0.0,>=0.3.66->langchain-community) (25.0)\n",
      "Requirement already satisfied: jsonpointer>=1.9 in c:\\users\\anike\\appdata\\local\\programs\\python\\python312\\lib\\site-packages (from jsonpatch<2.0,>=1.33->langchain-core<1.0.0,>=0.3.66->langchain-community) (3.0.0)\n",
      "Requirement already satisfied: annotated-types>=0.6.0 in c:\\users\\anike\\appdata\\local\\programs\\python\\python312\\lib\\site-packages (from pydantic<3.0.0,>=2.7.4->langchain<1.0.0,>=0.3.26->langchain-community) (0.7.0)\n",
      "Requirement already satisfied: pydantic-core==2.33.2 in c:\\users\\anike\\appdata\\local\\programs\\python\\python312\\lib\\site-packages (from pydantic<3.0.0,>=2.7.4->langchain<1.0.0,>=0.3.26->langchain-community) (2.33.2)\n",
      "Requirement already satisfied: typing-inspection>=0.4.0 in c:\\users\\anike\\appdata\\local\\programs\\python\\python312\\lib\\site-packages (from pydantic<3.0.0,>=2.7.4->langchain<1.0.0,>=0.3.26->langchain-community) (0.4.1)\n",
      "Requirement already satisfied: python-dotenv>=0.21.0 in c:\\users\\anike\\appdata\\local\\programs\\python\\python312\\lib\\site-packages (from pydantic-settings<3.0.0,>=2.4.0->langchain-community) (1.1.1)\n",
      "Requirement already satisfied: charset_normalizer<4,>=2 in c:\\users\\anike\\appdata\\local\\programs\\python\\python312\\lib\\site-packages (from requests<3,>=2->langchain-community) (3.4.2)\n",
      "Requirement already satisfied: idna<4,>=2.5 in c:\\users\\anike\\appdata\\local\\programs\\python\\python312\\lib\\site-packages (from requests<3,>=2->langchain-community) (3.10)\n",
      "Requirement already satisfied: urllib3<3,>=1.21.1 in c:\\users\\anike\\appdata\\local\\programs\\python\\python312\\lib\\site-packages (from requests<3,>=2->langchain-community) (2.5.0)\n",
      "Requirement already satisfied: certifi>=2017.4.17 in c:\\users\\anike\\appdata\\local\\programs\\python\\python312\\lib\\site-packages (from requests<3,>=2->langchain-community) (2025.6.15)\n",
      "Requirement already satisfied: greenlet>=1 in c:\\users\\anike\\appdata\\local\\programs\\python\\python312\\lib\\site-packages (from SQLAlchemy<3,>=1.4->langchain-community) (3.2.3)\n",
      "Requirement already satisfied: mypy-extensions>=0.3.0 in c:\\users\\anike\\appdata\\local\\programs\\python\\python312\\lib\\site-packages (from typing-inspect<1,>=0.4.0->dataclasses-json<0.7,>=0.5.7->langchain-community) (1.1.0)\n",
      "Requirement already satisfied: httpx<1,>=0.23.0 in c:\\users\\anike\\appdata\\local\\programs\\python\\python312\\lib\\site-packages (from langsmith>=0.1.125->langchain-community) (0.28.1)\n",
      "Requirement already satisfied: orjson>=3.9.14 in c:\\users\\anike\\appdata\\local\\programs\\python\\python312\\lib\\site-packages (from langsmith>=0.1.125->langchain-community) (3.11.1)\n",
      "Requirement already satisfied: requests-toolbelt>=1.0.0 in c:\\users\\anike\\appdata\\local\\programs\\python\\python312\\lib\\site-packages (from langsmith>=0.1.125->langchain-community) (1.0.0)\n",
      "Requirement already satisfied: zstandard>=0.23.0 in c:\\users\\anike\\appdata\\local\\programs\\python\\python312\\lib\\site-packages (from langsmith>=0.1.125->langchain-community) (0.23.0)\n",
      "Requirement already satisfied: anyio in c:\\users\\anike\\appdata\\local\\programs\\python\\python312\\lib\\site-packages (from httpx<1,>=0.23.0->langsmith>=0.1.125->langchain-community) (4.9.0)\n",
      "Requirement already satisfied: httpcore==1.* in c:\\users\\anike\\appdata\\local\\programs\\python\\python312\\lib\\site-packages (from httpx<1,>=0.23.0->langsmith>=0.1.125->langchain-community) (1.0.9)\n",
      "Requirement already satisfied: h11>=0.16 in c:\\users\\anike\\appdata\\local\\programs\\python\\python312\\lib\\site-packages (from httpcore==1.*->httpx<1,>=0.23.0->langsmith>=0.1.125->langchain-community) (0.16.0)\n",
      "Requirement already satisfied: sniffio>=1.1 in c:\\users\\anike\\appdata\\local\\programs\\python\\python312\\lib\\site-packages (from anyio->httpx<1,>=0.23.0->langsmith>=0.1.125->langchain-community) (1.3.1)\n",
      "Note: you may need to restart the kernel to use updated packages.\n"
     ]
    },
    {
     "name": "stderr",
     "output_type": "stream",
     "text": [
      "\n",
      "[notice] A new release of pip is available: 25.1.1 -> 25.2\n",
      "[notice] To update, run: python.exe -m pip install --upgrade pip\n"
     ]
    }
   ],
   "source": [
    "%pip install langchain-community"
   ]
  },
  {
   "cell_type": "code",
   "execution_count": 14,
   "metadata": {},
   "outputs": [
    {
     "name": "stdout",
     "output_type": "stream",
     "text": [
      "Requirement already satisfied: tf-keras in c:\\users\\anike\\appdata\\local\\programs\\python\\python312\\lib\\site-packages (2.19.0)\n",
      "Requirement already satisfied: tensorflow<2.20,>=2.19 in c:\\users\\anike\\appdata\\local\\programs\\python\\python312\\lib\\site-packages (from tf-keras) (2.19.0)\n",
      "Requirement already satisfied: absl-py>=1.0.0 in c:\\users\\anike\\appdata\\local\\programs\\python\\python312\\lib\\site-packages (from tensorflow<2.20,>=2.19->tf-keras) (2.3.0)\n",
      "Requirement already satisfied: astunparse>=1.6.0 in c:\\users\\anike\\appdata\\local\\programs\\python\\python312\\lib\\site-packages (from tensorflow<2.20,>=2.19->tf-keras) (1.6.3)\n",
      "Requirement already satisfied: flatbuffers>=24.3.25 in c:\\users\\anike\\appdata\\local\\programs\\python\\python312\\lib\\site-packages (from tensorflow<2.20,>=2.19->tf-keras) (25.2.10)\n",
      "Requirement already satisfied: gast!=0.5.0,!=0.5.1,!=0.5.2,>=0.2.1 in c:\\users\\anike\\appdata\\local\\programs\\python\\python312\\lib\\site-packages (from tensorflow<2.20,>=2.19->tf-keras) (0.6.0)\n",
      "Requirement already satisfied: google-pasta>=0.1.1 in c:\\users\\anike\\appdata\\local\\programs\\python\\python312\\lib\\site-packages (from tensorflow<2.20,>=2.19->tf-keras) (0.2.0)\n",
      "Requirement already satisfied: libclang>=13.0.0 in c:\\users\\anike\\appdata\\local\\programs\\python\\python312\\lib\\site-packages (from tensorflow<2.20,>=2.19->tf-keras) (18.1.1)\n",
      "Requirement already satisfied: opt-einsum>=2.3.2 in c:\\users\\anike\\appdata\\local\\programs\\python\\python312\\lib\\site-packages (from tensorflow<2.20,>=2.19->tf-keras) (3.4.0)\n",
      "Requirement already satisfied: packaging in c:\\users\\anike\\appdata\\local\\programs\\python\\python312\\lib\\site-packages (from tensorflow<2.20,>=2.19->tf-keras) (25.0)\n",
      "Requirement already satisfied: protobuf!=4.21.0,!=4.21.1,!=4.21.2,!=4.21.3,!=4.21.4,!=4.21.5,<6.0.0dev,>=3.20.3 in c:\\users\\anike\\appdata\\local\\programs\\python\\python312\\lib\\site-packages (from tensorflow<2.20,>=2.19->tf-keras) (5.29.5)\n",
      "Requirement already satisfied: requests<3,>=2.21.0 in c:\\users\\anike\\appdata\\local\\programs\\python\\python312\\lib\\site-packages (from tensorflow<2.20,>=2.19->tf-keras) (2.32.4)\n",
      "Requirement already satisfied: setuptools in c:\\users\\anike\\appdata\\local\\programs\\python\\python312\\lib\\site-packages (from tensorflow<2.20,>=2.19->tf-keras) (80.9.0)\n",
      "Requirement already satisfied: six>=1.12.0 in c:\\users\\anike\\appdata\\local\\programs\\python\\python312\\lib\\site-packages (from tensorflow<2.20,>=2.19->tf-keras) (1.17.0)\n",
      "Requirement already satisfied: termcolor>=1.1.0 in c:\\users\\anike\\appdata\\local\\programs\\python\\python312\\lib\\site-packages (from tensorflow<2.20,>=2.19->tf-keras) (3.1.0)\n",
      "Requirement already satisfied: typing-extensions>=3.6.6 in c:\\users\\anike\\appdata\\local\\programs\\python\\python312\\lib\\site-packages (from tensorflow<2.20,>=2.19->tf-keras) (4.14.0)\n",
      "Requirement already satisfied: wrapt>=1.11.0 in c:\\users\\anike\\appdata\\local\\programs\\python\\python312\\lib\\site-packages (from tensorflow<2.20,>=2.19->tf-keras) (1.17.2)\n",
      "Requirement already satisfied: grpcio<2.0,>=1.24.3 in c:\\users\\anike\\appdata\\local\\programs\\python\\python312\\lib\\site-packages (from tensorflow<2.20,>=2.19->tf-keras) (1.73.0)\n",
      "Requirement already satisfied: tensorboard~=2.19.0 in c:\\users\\anike\\appdata\\local\\programs\\python\\python312\\lib\\site-packages (from tensorflow<2.20,>=2.19->tf-keras) (2.19.0)\n",
      "Requirement already satisfied: keras>=3.5.0 in c:\\users\\anike\\appdata\\local\\programs\\python\\python312\\lib\\site-packages (from tensorflow<2.20,>=2.19->tf-keras) (3.10.0)\n",
      "Requirement already satisfied: numpy<2.2.0,>=1.26.0 in c:\\users\\anike\\appdata\\local\\programs\\python\\python312\\lib\\site-packages (from tensorflow<2.20,>=2.19->tf-keras) (1.26.4)\n",
      "Requirement already satisfied: h5py>=3.11.0 in c:\\users\\anike\\appdata\\local\\programs\\python\\python312\\lib\\site-packages (from tensorflow<2.20,>=2.19->tf-keras) (3.14.0)\n",
      "Requirement already satisfied: ml-dtypes<1.0.0,>=0.5.1 in c:\\users\\anike\\appdata\\local\\programs\\python\\python312\\lib\\site-packages (from tensorflow<2.20,>=2.19->tf-keras) (0.5.1)\n",
      "Requirement already satisfied: charset_normalizer<4,>=2 in c:\\users\\anike\\appdata\\local\\programs\\python\\python312\\lib\\site-packages (from requests<3,>=2.21.0->tensorflow<2.20,>=2.19->tf-keras) (3.4.2)\n",
      "Requirement already satisfied: idna<4,>=2.5 in c:\\users\\anike\\appdata\\local\\programs\\python\\python312\\lib\\site-packages (from requests<3,>=2.21.0->tensorflow<2.20,>=2.19->tf-keras) (3.10)\n",
      "Requirement already satisfied: urllib3<3,>=1.21.1 in c:\\users\\anike\\appdata\\local\\programs\\python\\python312\\lib\\site-packages (from requests<3,>=2.21.0->tensorflow<2.20,>=2.19->tf-keras) (2.5.0)\n",
      "Requirement already satisfied: certifi>=2017.4.17 in c:\\users\\anike\\appdata\\local\\programs\\python\\python312\\lib\\site-packages (from requests<3,>=2.21.0->tensorflow<2.20,>=2.19->tf-keras) (2025.6.15)\n",
      "Requirement already satisfied: markdown>=2.6.8 in c:\\users\\anike\\appdata\\local\\programs\\python\\python312\\lib\\site-packages (from tensorboard~=2.19.0->tensorflow<2.20,>=2.19->tf-keras) (3.8.2)\n",
      "Requirement already satisfied: tensorboard-data-server<0.8.0,>=0.7.0 in c:\\users\\anike\\appdata\\local\\programs\\python\\python312\\lib\\site-packages (from tensorboard~=2.19.0->tensorflow<2.20,>=2.19->tf-keras) (0.7.2)\n",
      "Requirement already satisfied: werkzeug>=1.0.1 in c:\\users\\anike\\appdata\\local\\programs\\python\\python312\\lib\\site-packages (from tensorboard~=2.19.0->tensorflow<2.20,>=2.19->tf-keras) (3.1.3)\n",
      "Requirement already satisfied: wheel<1.0,>=0.23.0 in c:\\users\\anike\\appdata\\local\\programs\\python\\python312\\lib\\site-packages (from astunparse>=1.6.0->tensorflow<2.20,>=2.19->tf-keras) (0.45.1)\n",
      "Requirement already satisfied: rich in c:\\users\\anike\\appdata\\local\\programs\\python\\python312\\lib\\site-packages (from keras>=3.5.0->tensorflow<2.20,>=2.19->tf-keras) (14.0.0)\n",
      "Requirement already satisfied: namex in c:\\users\\anike\\appdata\\local\\programs\\python\\python312\\lib\\site-packages (from keras>=3.5.0->tensorflow<2.20,>=2.19->tf-keras) (0.1.0)\n",
      "Requirement already satisfied: optree in c:\\users\\anike\\appdata\\local\\programs\\python\\python312\\lib\\site-packages (from keras>=3.5.0->tensorflow<2.20,>=2.19->tf-keras) (0.16.0)\n",
      "Requirement already satisfied: MarkupSafe>=2.1.1 in c:\\users\\anike\\appdata\\local\\programs\\python\\python312\\lib\\site-packages (from werkzeug>=1.0.1->tensorboard~=2.19.0->tensorflow<2.20,>=2.19->tf-keras) (3.0.2)\n",
      "Requirement already satisfied: markdown-it-py>=2.2.0 in c:\\users\\anike\\appdata\\local\\programs\\python\\python312\\lib\\site-packages (from rich->keras>=3.5.0->tensorflow<2.20,>=2.19->tf-keras) (3.0.0)\n",
      "Requirement already satisfied: pygments<3.0.0,>=2.13.0 in c:\\users\\anike\\appdata\\local\\programs\\python\\python312\\lib\\site-packages (from rich->keras>=3.5.0->tensorflow<2.20,>=2.19->tf-keras) (2.19.2)\n",
      "Requirement already satisfied: mdurl~=0.1 in c:\\users\\anike\\appdata\\local\\programs\\python\\python312\\lib\\site-packages (from markdown-it-py>=2.2.0->rich->keras>=3.5.0->tensorflow<2.20,>=2.19->tf-keras) (0.1.2)\n",
      "Note: you may need to restart the kernel to use updated packages.\n"
     ]
    },
    {
     "name": "stderr",
     "output_type": "stream",
     "text": [
      "\n",
      "[notice] A new release of pip is available: 25.1.1 -> 25.2\n",
      "[notice] To update, run: python.exe -m pip install --upgrade pip\n"
     ]
    }
   ],
   "source": [
    "%pip install tf-keras"
   ]
  },
  {
   "cell_type": "code",
   "execution_count": 15,
   "metadata": {},
   "outputs": [
    {
     "name": "stdout",
     "output_type": "stream",
     "text": [
      "Requirement already satisfied: pypdf[full] in c:\\users\\anike\\appdata\\local\\programs\\python\\python312\\lib\\site-packages (5.9.0)\n",
      "Requirement already satisfied: cryptography in c:\\users\\anike\\appdata\\local\\programs\\python\\python312\\lib\\site-packages (from pypdf[full]) (45.0.5)\n",
      "Requirement already satisfied: Pillow>=8.0.0 in c:\\users\\anike\\appdata\\local\\programs\\python\\python312\\lib\\site-packages (from pypdf[full]) (10.2.0)\n",
      "Requirement already satisfied: cffi>=1.14 in c:\\users\\anike\\appdata\\local\\programs\\python\\python312\\lib\\site-packages (from cryptography->pypdf[full]) (1.17.1)\n",
      "Requirement already satisfied: pycparser in c:\\users\\anike\\appdata\\local\\programs\\python\\python312\\lib\\site-packages (from cffi>=1.14->cryptography->pypdf[full]) (2.22)\n",
      "Note: you may need to restart the kernel to use updated packages.\n"
     ]
    },
    {
     "name": "stderr",
     "output_type": "stream",
     "text": [
      "\n",
      "[notice] A new release of pip is available: 25.1.1 -> 25.2\n",
      "[notice] To update, run: python.exe -m pip install --upgrade pip\n"
     ]
    }
   ],
   "source": [
    "%pip install \"pypdf[full]\""
   ]
  },
  {
   "cell_type": "code",
   "execution_count": 17,
   "metadata": {
    "colab": {
     "base_uri": "https://localhost:8080/",
     "height": 90
    },
    "id": "2cripFmHdm5I",
    "outputId": "fcd33da5-e0a9-4351-bde1-400b7782c347"
   },
   "outputs": [
    {
     "name": "stdout",
     "output_type": "stream",
     "text": [
      "Checking if file exists at: C:\\OMEGA\\Python\\GenAi\\Assignment\\Assignment - 3\\RAG\\BCSC1807 Syllabus.pdf\n",
      "File exists. Loading PDF...\n",
      "Number of pages (direct reading): 1\n",
      "\n",
      "Sample content from first page (direct reading):\n",
      "                                                                          \n",
      " \n",
      "DEPARTMENT OF COMPUTER ENGINEERING & APPLICATIONS, Institute of Engineering & Technology \n",
      "Course Curriculum (w.e.f. Session 2023-24) B. Tech. Computer Science & Engineering \n",
      "BCSC1807: DESIGN & ANALYSIS OF ALGORITHMS LAB Objective: The objective of this course is that students will understand and implement simple data structures, able demonstrate different sorting and searching techniques. and will be familiar with graph\n",
      "\n",
      "Now trying with LangChain loader:\n",
      "Total pages loaded: 1\n"
     ]
    }
   ],
   "source": [
    "from langchain.document_loaders import PyPDFLoader\n",
    "import os\n",
    "from pypdf import PdfReader\n",
    "import sys\n",
    "\n",
    "# Use the BCSC 1807 Syllabus PDF\n",
    "pdf_path = r\"C:\\OMEGA\\Python\\GenAi\\Assignment\\Assignment - 3\\RAG\\BCSC1807 Syllabus.pdf\"\n",
    "\n",
    "# Check if file exists\n",
    "print(f\"Checking if file exists at: {pdf_path}\")\n",
    "if os.path.exists(pdf_path):\n",
    "    print(\"File exists. Loading PDF...\")\n",
    "    try:\n",
    "        # First try direct PDF reading\n",
    "        reader = PdfReader(pdf_path)\n",
    "        print(f\"Number of pages (direct reading): {len(reader.pages)}\")\n",
    "        text = reader.pages[0].extract_text()\n",
    "        if text.strip():\n",
    "            print(\"\\nSample content from first page (direct reading):\")\n",
    "            print(text[:500])\n",
    "        else:\n",
    "            print(\"\\nWarning: No text could be extracted from the first page\")\n",
    "        \n",
    "        # Then try with LangChain loader\n",
    "        print(\"\\nNow trying with LangChain loader:\")\n",
    "        loader = PyPDFLoader(pdf_path)\n",
    "        pages = loader.load()\n",
    "        print(f\"Total pages loaded: {len(pages)}\")\n",
    "        \n",
    "        if not any(page.page_content.strip() for page in pages):\n",
    "            print(\"Warning: No content could be extracted from the PDF. The file might be scanned or protected.\")\n",
    "    except Exception as e:\n",
    "        print(f\"Error processing PDF: {str(e)}\")\n",
    "        sys.exit(1)\n",
    "else:\n",
    "    print(f\"File not found at: {pdf_path}\")\n",
    "    print(\"Please make sure the PDF file exists at the specified location.\")"
   ]
  },
  {
   "cell_type": "code",
   "execution_count": 18,
   "metadata": {},
   "outputs": [
    {
     "name": "stdout",
     "output_type": "stream",
     "text": [
      "Sample content from first page:\n",
      "DEPARTMENT OF COMPUTER ENGINEERING & APPLICATIONS, Institute of Engineering & Technology \n",
      "Course Curriculum (w.e.f. Session 2023-24) B. Tech. Computer Science & Engineering \n",
      "BCSC1807: DESIGN & ANALYSIS OF ALGORITHMS LAB Objective: The objective of this course is that students will understand and implement simple data structures, able demonstrate different sorting and searching techniques. and will be familiar with graphs and their applications.   Credits:01     L-T-P-J:0-0-2-0 Module No. Content\n"
     ]
    }
   ],
   "source": [
    "print(\"Sample content from first page:\")\n",
    "if len(pages) > 0:\n",
    "    print(pages[0].page_content[:500])"
   ]
  },
  {
   "cell_type": "code",
   "execution_count": 19,
   "metadata": {
    "colab": {
     "base_uri": "https://localhost:8080/"
    },
    "id": "Njt752EQdykz",
    "outputId": "cf03f51a-6b97-4fe8-a466-5d98e7258805"
   },
   "outputs": [
    {
     "name": "stdout",
     "output_type": "stream",
     "text": [
      "Total chunks created: 4\n"
     ]
    }
   ],
   "source": [
    "from langchain.text_splitter import RecursiveCharacterTextSplitter\n",
    "\n",
    "splitter = RecursiveCharacterTextSplitter(\n",
    "    chunk_size=1000,  # Increased chunk size\n",
    "    chunk_overlap=200,  # Increased overlap\n",
    "    length_function=len,\n",
    "    separators=[\"\\n\\n\", \"\\n\", \" \", \"\"]\n",
    ")\n",
    "docs = splitter.split_documents(pages)\n",
    "\n",
    "print(f\"Total chunks created: {len(docs)}\")"
   ]
  },
  {
   "cell_type": "code",
   "execution_count": 20,
   "metadata": {
    "id": "7hf26rwJd651"
   },
   "outputs": [],
   "source": [
    "from langchain.embeddings import HuggingFaceEmbeddings\n",
    "\n",
    "embedding_model = HuggingFaceEmbeddings(model_name='all-MiniLM-L6-v2')"
   ]
  },
  {
   "cell_type": "code",
   "execution_count": 21,
   "metadata": {
    "colab": {
     "base_uri": "https://localhost:8080/"
    },
    "id": "sz8NwvwIeBfj",
    "outputId": "a5a73e44-feda-4390-d0b2-5d41d383082f"
   },
   "outputs": [
    {
     "name": "stdout",
     "output_type": "stream",
     "text": [
      "Embedding stored in Chroma.\n"
     ]
    },
    {
     "name": "stderr",
     "output_type": "stream",
     "text": [
      "c:\\Users\\anike\\AppData\\Local\\Programs\\Python\\Python312\\Lib\\site-packages\\torch\\nn\\modules\\module.py:1762: FutureWarning: `encoder_attention_mask` is deprecated and will be removed in version 4.55.0 for `BertSdpaSelfAttention.forward`.\n",
      "  return forward_call(*args, **kwargs)\n",
      "C:\\Users\\anike\\AppData\\Local\\Temp\\ipykernel_18496\\2329283953.py:4: LangChainDeprecationWarning: Since Chroma 0.4.x the manual persistence method is no longer supported as docs are automatically persisted.\n",
      "  vectorstore.persist()\n"
     ]
    }
   ],
   "source": [
    "from langchain.vectorstores import Chroma\n",
    "\n",
    "vectorstore = Chroma.from_documents(documents=docs, embedding=embedding_model, persist_directory=\"./chroma_db\")\n",
    "vectorstore.persist()\n",
    "print(\"Embedding stored in Chroma.\")"
   ]
  },
  {
   "cell_type": "code",
   "execution_count": 22,
   "metadata": {
    "id": "S8RcBaRxeJwy"
   },
   "outputs": [],
   "source": [
    "retriever = vectorstore.as_retriever(search_kwargs={\"k\": 3})"
   ]
  },
  {
   "cell_type": "code",
   "execution_count": 23,
   "metadata": {
    "id": "M6wOgQU6eN5P"
   },
   "outputs": [],
   "source": [
    "from langchain.chains import RetrievalQA\n",
    "from langchain.llms.base import LLM\n",
    "from typing import Optional, List\n",
    "\n",
    "class DummyLLM(LLM):\n",
    "    def _call(self, prompt: str, stop: Optional[List[str]] = None) -> str:\n",
    "        return \"This is a simulated LLM response to the prompt: \" + prompt\n",
    "\n",
    "    @property\n",
    "    def _llm_type(self) -> str:\n",
    "        return \"dummy-llm\"\n",
    "\n",
    "qa_chain = RetrievalQA.from_chain_type(llm=DummyLLM(), retriever=retriever)"
   ]
  },
  {
   "cell_type": "code",
   "execution_count": 24,
   "metadata": {
    "colab": {
     "base_uri": "https://localhost:8080/"
    },
    "id": "Ojv7kJYjeTB_",
    "outputId": "51400fa7-ffd4-4ac2-a9df-c4e67c1c31ef"
   },
   "outputs": [
    {
     "name": "stdout",
     "output_type": "stream",
     "text": [
      "Answer: This is a simulated LLM response to the prompt: Use the following pieces of context to answer the question at the end. If you don't know the answer, just say that you don't know, don't try to make up an answer.\n",
      "\n",
      "DEPARTMENT OF COMPUTER ENGINEERING & APPLICATIONS, Institute of Engineering & Technology \n",
      "Course Curriculum (w.e.f. Session 2023-24) B. Tech. Computer Science & Engineering\n",
      "\n",
      "BCSC1807: DESIGN & ANALYSIS OF ALGORITHMS LAB Objective: The objective of this course is that students will understand and implement simple data structures, able demonstrate different sorting and searching techniques. and will be familiar with graphs and their applications.   Credits:01     L-T-P-J:0-0-2-0 Module No. Content  Teaching Hours        I& II          Implementation of sorting algorithms: o Insertion Sort o Bubble Sort o Selection Sort  Divide and conquer approach: o Quick Sort o Merge Sort  Implementation of sorting algorithms: o Heap Sort  o Counting Sort   Implementation of Searching Techniques: o Linear Search o Binary Search  Implementation of Matrix Multiplication   Implementation of Convex Hull   Implementation of Breadth First Search   Implementation of Depth First Search  Implementation of Greedy approaches: o Optimal Reliability Allocation.  o Knapsack. Minimum  o Minimum Spanning trees:  Prim’s and Kruskal’s    algorithms.  o Single source shortest\n",
      "\n",
      "data structures for a given problem • CO3: Implement the algorithms based on Greedy approach and Dynamic Programming.    Mapping of Course Outcomes (COs) with Program Outcomes (POs) and Program Specific Outcomes (PSOs):  COs POs/PSOs CO1 PO1,PO2,PO4/PSO1,PSO2,PSO4 CO2 PO1,PO3,PO4/PSO1,PSO2,PSO3 CO3 PO2,PO3,PO5/PSO1,PSO2,PSO4\n",
      "\n",
      "Question: What is the document about?\n",
      "Helpful Answer:\n"
     ]
    },
    {
     "name": "stderr",
     "output_type": "stream",
     "text": [
      "C:\\Users\\anike\\AppData\\Local\\Temp\\ipykernel_18496\\3251645052.py:2: LangChainDeprecationWarning: The method `Chain.run` was deprecated in langchain 0.1.0 and will be removed in 1.0. Use :meth:`~invoke` instead.\n",
      "  response = qa_chain.run(query)\n",
      "c:\\Users\\anike\\AppData\\Local\\Programs\\Python\\Python312\\Lib\\site-packages\\torch\\nn\\modules\\module.py:1762: FutureWarning: `encoder_attention_mask` is deprecated and will be removed in version 4.55.0 for `BertSdpaSelfAttention.forward`.\n",
      "  return forward_call(*args, **kwargs)\n"
     ]
    }
   ],
   "source": [
    "query = \"What is the document about?\"\n",
    "response = qa_chain.run(query)\n",
    "print(\"Answer:\", response)"
   ]
  },
  {
   "cell_type": "code",
   "execution_count": 25,
   "metadata": {
    "id": "Vqgqj9FteZSI"
   },
   "outputs": [],
   "source": [
    "questions = [\n",
    "    \"What is the main topic of the document?\",\n",
    "    \"Which methods or models are used in the study?\",\n",
    "    \"What are the key results or findings?\",\n",
    "    \"Is there any future work or limitation mentioned?\",\n",
    "    \"What is the purpose or objective of this document?\"\n",
    "]"
   ]
  },
  {
   "cell_type": "code",
   "execution_count": 26,
   "metadata": {
    "id": "X4_a2XU9fD5p"
   },
   "outputs": [],
   "source": [
    "def ask_with_retriever(qa_chain, retriever, query):\n",
    "    relevant_docs = retriever.get_relevant_documents(query)\n",
    "    response = qa_chain.run(query)\n",
    "\n",
    "    print(f\"\\n Question: {query}\")\n",
    "    print(\"\\n Retrieved Chunks:\")\n",
    "    for i, doc in enumerate(relevant_docs):\n",
    "        print(f\"\\nChunk {i+1}:\\n{doc.page_content[:300]}...\\n\")\n",
    "\n",
    "    print(\" RAG Answer:\\n\", response)\n",
    "    return response"
   ]
  },
  {
   "cell_type": "code",
   "execution_count": 27,
   "metadata": {
    "id": "R7JCg57NfMlb"
   },
   "outputs": [],
   "source": [
    "def ask_without_retriever(llm, query):\n",
    "    # Simulate raw LLM answer using full doc context (concat first few chunks)\n",
    "    context = \"\\n\".join([doc.page_content for doc in docs[:5]])\n",
    "    prompt = f\"Context:\\n{context}\\n\\nQuestion: {query}\\nAnswer:\"\n",
    "    answer = llm(prompt)\n",
    "\n",
    "    print(\" Raw LLM Answer:\\n\", answer)\n",
    "    return answer"
   ]
  },
  {
   "cell_type": "code",
   "execution_count": 28,
   "metadata": {
    "id": "MSeMJiftfaCK"
   },
   "outputs": [],
   "source": [
    "llm=DummyLLM()"
   ]
  },
  {
   "cell_type": "code",
   "execution_count": 29,
   "metadata": {
    "colab": {
     "base_uri": "https://localhost:8080/"
    },
    "id": "44N3yaeOfec0",
    "outputId": "349ed72f-9764-4cde-9a6e-3631293a1155"
   },
   "outputs": [
    {
     "name": "stdout",
     "output_type": "stream",
     "text": [
      "\n",
      " Question: What is the main topic of the document?\n",
      "\n",
      " Retrieved Chunks:\n",
      "\n",
      "Chunk 1:\n",
      "DEPARTMENT OF COMPUTER ENGINEERING & APPLICATIONS, Institute of Engineering & Technology \n",
      "Course Curriculum (w.e.f. Session 2023-24) B. Tech. Computer Science & Engineering...\n",
      "\n",
      "\n",
      "Chunk 2:\n",
      "BCSC1807: DESIGN & ANALYSIS OF ALGORITHMS LAB Objective: The objective of this course is that students will understand and implement simple data structures, able demonstrate different sorting and searching techniques. and will be familiar with graphs and their applications.   Credits:01     L-T-P-J:...\n",
      "\n",
      "\n",
      "Chunk 3:\n",
      "data structures for a given problem • CO3: Implement the algorithms based on Greedy approach and Dynamic Programming.    Mapping of Course Outcomes (COs) with Program Outcomes (POs) and Program Specific Outcomes (PSOs):  COs POs/PSOs CO1 PO1,PO2,PO4/PSO1,PSO2,PSO4 CO2 PO1,PO3,PO4/PSO1,PSO2,PSO3 CO3 ...\n",
      "\n",
      " RAG Answer:\n",
      " This is a simulated LLM response to the prompt: Use the following pieces of context to answer the question at the end. If you don't know the answer, just say that you don't know, don't try to make up an answer.\n",
      "\n",
      "DEPARTMENT OF COMPUTER ENGINEERING & APPLICATIONS, Institute of Engineering & Technology \n",
      "Course Curriculum (w.e.f. Session 2023-24) B. Tech. Computer Science & Engineering\n",
      "\n",
      "BCSC1807: DESIGN & ANALYSIS OF ALGORITHMS LAB Objective: The objective of this course is that students will understand and implement simple data structures, able demonstrate different sorting and searching techniques. and will be familiar with graphs and their applications.   Credits:01     L-T-P-J:0-0-2-0 Module No. Content  Teaching Hours        I& II          Implementation of sorting algorithms: o Insertion Sort o Bubble Sort o Selection Sort  Divide and conquer approach: o Quick Sort o Merge Sort  Implementation of sorting algorithms: o Heap Sort  o Counting Sort   Implementation of Searching Techniques: o Linear Search o Binary Search  Implementation of Matrix Multiplication   Implementation of Convex Hull   Implementation of Breadth First Search   Implementation of Depth First Search  Implementation of Greedy approaches: o Optimal Reliability Allocation.  o Knapsack. Minimum  o Minimum Spanning trees:  Prim’s and Kruskal’s    algorithms.  o Single source shortest\n",
      "\n",
      "data structures for a given problem • CO3: Implement the algorithms based on Greedy approach and Dynamic Programming.    Mapping of Course Outcomes (COs) with Program Outcomes (POs) and Program Specific Outcomes (PSOs):  COs POs/PSOs CO1 PO1,PO2,PO4/PSO1,PSO2,PSO4 CO2 PO1,PO3,PO4/PSO1,PSO2,PSO3 CO3 PO2,PO3,PO5/PSO1,PSO2,PSO4\n",
      "\n",
      "Question: What is the main topic of the document?\n",
      "Helpful Answer:\n",
      " Raw LLM Answer:\n",
      " This is a simulated LLM response to the prompt: Context:\n",
      "DEPARTMENT OF COMPUTER ENGINEERING & APPLICATIONS, Institute of Engineering & Technology \n",
      "Course Curriculum (w.e.f. Session 2023-24) B. Tech. Computer Science & Engineering\n",
      "BCSC1807: DESIGN & ANALYSIS OF ALGORITHMS LAB Objective: The objective of this course is that students will understand and implement simple data structures, able demonstrate different sorting and searching techniques. and will be familiar with graphs and their applications.   Credits:01     L-T-P-J:0-0-2-0 Module No. Content  Teaching Hours        I& II          Implementation of sorting algorithms: o Insertion Sort o Bubble Sort o Selection Sort  Divide and conquer approach: o Quick Sort o Merge Sort  Implementation of sorting algorithms: o Heap Sort  o Counting Sort   Implementation of Searching Techniques: o Linear Search o Binary Search  Implementation of Matrix Multiplication   Implementation of Convex Hull   Implementation of Breadth First Search   Implementation of Depth First Search  Implementation of Greedy approaches: o Optimal Reliability Allocation.  o Knapsack. Minimum  o Minimum Spanning trees:  Prim’s and Kruskal’s    algorithms.  o Single source shortest\n",
      "First Search  Implementation of Greedy approaches: o Optimal Reliability Allocation.  o Knapsack. Minimum  o Minimum Spanning trees:  Prim’s and Kruskal’s    algorithms.  o Single source shortest paths –   Dijkstra’s and Bellman Ford algorithms.    Implementation of Dynamic Programming: o Longest Increasing Subsequence.  o Finding best path in maze.  o Matrix Chain Multiplication o 0/1 Knapsack Problem o Resource Allocation Problem 32 Note: All Code must be done in Java as well as Python Focus: This Course focuses on Employability under CO1, CO2, CO3. Outcome: After completion of course, student will be able to: • CO1: Implementation the sorting algorithms like Selection Sort, Bubble Sort, Insertion Sort, Merge Sort, Quick Sort  and Heap Sort. • CO2: Demonstrate and use the appropriate data structures for a given problem • CO3: Implement the algorithms based on Greedy approach and Dynamic Programming.    Mapping of Course Outcomes (COs) with Program Outcomes (POs) and Program\n",
      "data structures for a given problem • CO3: Implement the algorithms based on Greedy approach and Dynamic Programming.    Mapping of Course Outcomes (COs) with Program Outcomes (POs) and Program Specific Outcomes (PSOs):  COs POs/PSOs CO1 PO1,PO2,PO4/PSO1,PSO2,PSO4 CO2 PO1,PO3,PO4/PSO1,PSO2,PSO3 CO3 PO2,PO3,PO5/PSO1,PSO2,PSO4\n",
      "\n",
      "Question: What is the main topic of the document?\n",
      "Answer:\n",
      "----------------------------------------------------------------------------------------------------\n",
      "\n",
      " Question: Which methods or models are used in the study?\n",
      "\n",
      " Retrieved Chunks:\n",
      "\n",
      "Chunk 1:\n",
      "data structures for a given problem • CO3: Implement the algorithms based on Greedy approach and Dynamic Programming.    Mapping of Course Outcomes (COs) with Program Outcomes (POs) and Program Specific Outcomes (PSOs):  COs POs/PSOs CO1 PO1,PO2,PO4/PSO1,PSO2,PSO4 CO2 PO1,PO3,PO4/PSO1,PSO2,PSO3 CO3 ...\n",
      "\n",
      "\n",
      "Chunk 2:\n",
      "BCSC1807: DESIGN & ANALYSIS OF ALGORITHMS LAB Objective: The objective of this course is that students will understand and implement simple data structures, able demonstrate different sorting and searching techniques. and will be familiar with graphs and their applications.   Credits:01     L-T-P-J:...\n",
      "\n",
      "\n",
      "Chunk 3:\n",
      "DEPARTMENT OF COMPUTER ENGINEERING & APPLICATIONS, Institute of Engineering & Technology \n",
      "Course Curriculum (w.e.f. Session 2023-24) B. Tech. Computer Science & Engineering...\n",
      "\n",
      " RAG Answer:\n",
      " This is a simulated LLM response to the prompt: Use the following pieces of context to answer the question at the end. If you don't know the answer, just say that you don't know, don't try to make up an answer.\n",
      "\n",
      "data structures for a given problem • CO3: Implement the algorithms based on Greedy approach and Dynamic Programming.    Mapping of Course Outcomes (COs) with Program Outcomes (POs) and Program Specific Outcomes (PSOs):  COs POs/PSOs CO1 PO1,PO2,PO4/PSO1,PSO2,PSO4 CO2 PO1,PO3,PO4/PSO1,PSO2,PSO3 CO3 PO2,PO3,PO5/PSO1,PSO2,PSO4\n",
      "\n",
      "BCSC1807: DESIGN & ANALYSIS OF ALGORITHMS LAB Objective: The objective of this course is that students will understand and implement simple data structures, able demonstrate different sorting and searching techniques. and will be familiar with graphs and their applications.   Credits:01     L-T-P-J:0-0-2-0 Module No. Content  Teaching Hours        I& II          Implementation of sorting algorithms: o Insertion Sort o Bubble Sort o Selection Sort  Divide and conquer approach: o Quick Sort o Merge Sort  Implementation of sorting algorithms: o Heap Sort  o Counting Sort   Implementation of Searching Techniques: o Linear Search o Binary Search  Implementation of Matrix Multiplication   Implementation of Convex Hull   Implementation of Breadth First Search   Implementation of Depth First Search  Implementation of Greedy approaches: o Optimal Reliability Allocation.  o Knapsack. Minimum  o Minimum Spanning trees:  Prim’s and Kruskal’s    algorithms.  o Single source shortest\n",
      "\n",
      "DEPARTMENT OF COMPUTER ENGINEERING & APPLICATIONS, Institute of Engineering & Technology \n",
      "Course Curriculum (w.e.f. Session 2023-24) B. Tech. Computer Science & Engineering\n",
      "\n",
      "Question: Which methods or models are used in the study?\n",
      "Helpful Answer:\n",
      " Raw LLM Answer:\n",
      " This is a simulated LLM response to the prompt: Context:\n",
      "DEPARTMENT OF COMPUTER ENGINEERING & APPLICATIONS, Institute of Engineering & Technology \n",
      "Course Curriculum (w.e.f. Session 2023-24) B. Tech. Computer Science & Engineering\n",
      "BCSC1807: DESIGN & ANALYSIS OF ALGORITHMS LAB Objective: The objective of this course is that students will understand and implement simple data structures, able demonstrate different sorting and searching techniques. and will be familiar with graphs and their applications.   Credits:01     L-T-P-J:0-0-2-0 Module No. Content  Teaching Hours        I& II          Implementation of sorting algorithms: o Insertion Sort o Bubble Sort o Selection Sort  Divide and conquer approach: o Quick Sort o Merge Sort  Implementation of sorting algorithms: o Heap Sort  o Counting Sort   Implementation of Searching Techniques: o Linear Search o Binary Search  Implementation of Matrix Multiplication   Implementation of Convex Hull   Implementation of Breadth First Search   Implementation of Depth First Search  Implementation of Greedy approaches: o Optimal Reliability Allocation.  o Knapsack. Minimum  o Minimum Spanning trees:  Prim’s and Kruskal’s    algorithms.  o Single source shortest\n",
      "First Search  Implementation of Greedy approaches: o Optimal Reliability Allocation.  o Knapsack. Minimum  o Minimum Spanning trees:  Prim’s and Kruskal’s    algorithms.  o Single source shortest paths –   Dijkstra’s and Bellman Ford algorithms.    Implementation of Dynamic Programming: o Longest Increasing Subsequence.  o Finding best path in maze.  o Matrix Chain Multiplication o 0/1 Knapsack Problem o Resource Allocation Problem 32 Note: All Code must be done in Java as well as Python Focus: This Course focuses on Employability under CO1, CO2, CO3. Outcome: After completion of course, student will be able to: • CO1: Implementation the sorting algorithms like Selection Sort, Bubble Sort, Insertion Sort, Merge Sort, Quick Sort  and Heap Sort. • CO2: Demonstrate and use the appropriate data structures for a given problem • CO3: Implement the algorithms based on Greedy approach and Dynamic Programming.    Mapping of Course Outcomes (COs) with Program Outcomes (POs) and Program\n",
      "data structures for a given problem • CO3: Implement the algorithms based on Greedy approach and Dynamic Programming.    Mapping of Course Outcomes (COs) with Program Outcomes (POs) and Program Specific Outcomes (PSOs):  COs POs/PSOs CO1 PO1,PO2,PO4/PSO1,PSO2,PSO4 CO2 PO1,PO3,PO4/PSO1,PSO2,PSO3 CO3 PO2,PO3,PO5/PSO1,PSO2,PSO4\n",
      "\n",
      "Question: Which methods or models are used in the study?\n",
      "Answer:\n",
      "----------------------------------------------------------------------------------------------------\n",
      "\n",
      " Question: What are the key results or findings?\n",
      "\n",
      " Retrieved Chunks:\n",
      "\n",
      "Chunk 1:\n",
      "data structures for a given problem • CO3: Implement the algorithms based on Greedy approach and Dynamic Programming.    Mapping of Course Outcomes (COs) with Program Outcomes (POs) and Program Specific Outcomes (PSOs):  COs POs/PSOs CO1 PO1,PO2,PO4/PSO1,PSO2,PSO4 CO2 PO1,PO3,PO4/PSO1,PSO2,PSO3 CO3 ...\n",
      "\n",
      "\n",
      "Chunk 2:\n",
      "BCSC1807: DESIGN & ANALYSIS OF ALGORITHMS LAB Objective: The objective of this course is that students will understand and implement simple data structures, able demonstrate different sorting and searching techniques. and will be familiar with graphs and their applications.   Credits:01     L-T-P-J:...\n",
      "\n",
      "\n",
      "Chunk 3:\n",
      "DEPARTMENT OF COMPUTER ENGINEERING & APPLICATIONS, Institute of Engineering & Technology \n",
      "Course Curriculum (w.e.f. Session 2023-24) B. Tech. Computer Science & Engineering...\n",
      "\n",
      " RAG Answer:\n",
      " This is a simulated LLM response to the prompt: Use the following pieces of context to answer the question at the end. If you don't know the answer, just say that you don't know, don't try to make up an answer.\n",
      "\n",
      "data structures for a given problem • CO3: Implement the algorithms based on Greedy approach and Dynamic Programming.    Mapping of Course Outcomes (COs) with Program Outcomes (POs) and Program Specific Outcomes (PSOs):  COs POs/PSOs CO1 PO1,PO2,PO4/PSO1,PSO2,PSO4 CO2 PO1,PO3,PO4/PSO1,PSO2,PSO3 CO3 PO2,PO3,PO5/PSO1,PSO2,PSO4\n",
      "\n",
      "BCSC1807: DESIGN & ANALYSIS OF ALGORITHMS LAB Objective: The objective of this course is that students will understand and implement simple data structures, able demonstrate different sorting and searching techniques. and will be familiar with graphs and their applications.   Credits:01     L-T-P-J:0-0-2-0 Module No. Content  Teaching Hours        I& II          Implementation of sorting algorithms: o Insertion Sort o Bubble Sort o Selection Sort  Divide and conquer approach: o Quick Sort o Merge Sort  Implementation of sorting algorithms: o Heap Sort  o Counting Sort   Implementation of Searching Techniques: o Linear Search o Binary Search  Implementation of Matrix Multiplication   Implementation of Convex Hull   Implementation of Breadth First Search   Implementation of Depth First Search  Implementation of Greedy approaches: o Optimal Reliability Allocation.  o Knapsack. Minimum  o Minimum Spanning trees:  Prim’s and Kruskal’s    algorithms.  o Single source shortest\n",
      "\n",
      "DEPARTMENT OF COMPUTER ENGINEERING & APPLICATIONS, Institute of Engineering & Technology \n",
      "Course Curriculum (w.e.f. Session 2023-24) B. Tech. Computer Science & Engineering\n",
      "\n",
      "Question: What are the key results or findings?\n",
      "Helpful Answer:\n",
      " Raw LLM Answer:\n",
      " This is a simulated LLM response to the prompt: Context:\n",
      "DEPARTMENT OF COMPUTER ENGINEERING & APPLICATIONS, Institute of Engineering & Technology \n",
      "Course Curriculum (w.e.f. Session 2023-24) B. Tech. Computer Science & Engineering\n",
      "BCSC1807: DESIGN & ANALYSIS OF ALGORITHMS LAB Objective: The objective of this course is that students will understand and implement simple data structures, able demonstrate different sorting and searching techniques. and will be familiar with graphs and their applications.   Credits:01     L-T-P-J:0-0-2-0 Module No. Content  Teaching Hours        I& II          Implementation of sorting algorithms: o Insertion Sort o Bubble Sort o Selection Sort  Divide and conquer approach: o Quick Sort o Merge Sort  Implementation of sorting algorithms: o Heap Sort  o Counting Sort   Implementation of Searching Techniques: o Linear Search o Binary Search  Implementation of Matrix Multiplication   Implementation of Convex Hull   Implementation of Breadth First Search   Implementation of Depth First Search  Implementation of Greedy approaches: o Optimal Reliability Allocation.  o Knapsack. Minimum  o Minimum Spanning trees:  Prim’s and Kruskal’s    algorithms.  o Single source shortest\n",
      "First Search  Implementation of Greedy approaches: o Optimal Reliability Allocation.  o Knapsack. Minimum  o Minimum Spanning trees:  Prim’s and Kruskal’s    algorithms.  o Single source shortest paths –   Dijkstra’s and Bellman Ford algorithms.    Implementation of Dynamic Programming: o Longest Increasing Subsequence.  o Finding best path in maze.  o Matrix Chain Multiplication o 0/1 Knapsack Problem o Resource Allocation Problem 32 Note: All Code must be done in Java as well as Python Focus: This Course focuses on Employability under CO1, CO2, CO3. Outcome: After completion of course, student will be able to: • CO1: Implementation the sorting algorithms like Selection Sort, Bubble Sort, Insertion Sort, Merge Sort, Quick Sort  and Heap Sort. • CO2: Demonstrate and use the appropriate data structures for a given problem • CO3: Implement the algorithms based on Greedy approach and Dynamic Programming.    Mapping of Course Outcomes (COs) with Program Outcomes (POs) and Program\n",
      "data structures for a given problem • CO3: Implement the algorithms based on Greedy approach and Dynamic Programming.    Mapping of Course Outcomes (COs) with Program Outcomes (POs) and Program Specific Outcomes (PSOs):  COs POs/PSOs CO1 PO1,PO2,PO4/PSO1,PSO2,PSO4 CO2 PO1,PO3,PO4/PSO1,PSO2,PSO3 CO3 PO2,PO3,PO5/PSO1,PSO2,PSO4\n",
      "\n",
      "Question: What are the key results or findings?\n",
      "Answer:\n",
      "----------------------------------------------------------------------------------------------------\n",
      "\n",
      " Question: Is there any future work or limitation mentioned?\n",
      "\n",
      " Retrieved Chunks:\n",
      "\n",
      "Chunk 1:\n",
      "DEPARTMENT OF COMPUTER ENGINEERING & APPLICATIONS, Institute of Engineering & Technology \n",
      "Course Curriculum (w.e.f. Session 2023-24) B. Tech. Computer Science & Engineering...\n",
      "\n",
      "\n",
      "Chunk 2:\n",
      "First Search  Implementation of Greedy approaches: o Optimal Reliability Allocation.  o Knapsack. Minimum  o Minimum Spanning trees:  Prim’s and Kruskal’s    algorithms.  o Single source shortest paths –   Dijkstra’s and Bellman Ford algorithms.    Implementation of Dynamic Programming: o Longes...\n",
      "\n",
      "\n",
      "Chunk 3:\n",
      "data structures for a given problem • CO3: Implement the algorithms based on Greedy approach and Dynamic Programming.    Mapping of Course Outcomes (COs) with Program Outcomes (POs) and Program Specific Outcomes (PSOs):  COs POs/PSOs CO1 PO1,PO2,PO4/PSO1,PSO2,PSO4 CO2 PO1,PO3,PO4/PSO1,PSO2,PSO3 CO3 ...\n",
      "\n",
      " RAG Answer:\n",
      " This is a simulated LLM response to the prompt: Use the following pieces of context to answer the question at the end. If you don't know the answer, just say that you don't know, don't try to make up an answer.\n",
      "\n",
      "DEPARTMENT OF COMPUTER ENGINEERING & APPLICATIONS, Institute of Engineering & Technology \n",
      "Course Curriculum (w.e.f. Session 2023-24) B. Tech. Computer Science & Engineering\n",
      "\n",
      "First Search  Implementation of Greedy approaches: o Optimal Reliability Allocation.  o Knapsack. Minimum  o Minimum Spanning trees:  Prim’s and Kruskal’s    algorithms.  o Single source shortest paths –   Dijkstra’s and Bellman Ford algorithms.    Implementation of Dynamic Programming: o Longest Increasing Subsequence.  o Finding best path in maze.  o Matrix Chain Multiplication o 0/1 Knapsack Problem o Resource Allocation Problem 32 Note: All Code must be done in Java as well as Python Focus: This Course focuses on Employability under CO1, CO2, CO3. Outcome: After completion of course, student will be able to: • CO1: Implementation the sorting algorithms like Selection Sort, Bubble Sort, Insertion Sort, Merge Sort, Quick Sort  and Heap Sort. • CO2: Demonstrate and use the appropriate data structures for a given problem • CO3: Implement the algorithms based on Greedy approach and Dynamic Programming.    Mapping of Course Outcomes (COs) with Program Outcomes (POs) and Program\n",
      "\n",
      "data structures for a given problem • CO3: Implement the algorithms based on Greedy approach and Dynamic Programming.    Mapping of Course Outcomes (COs) with Program Outcomes (POs) and Program Specific Outcomes (PSOs):  COs POs/PSOs CO1 PO1,PO2,PO4/PSO1,PSO2,PSO4 CO2 PO1,PO3,PO4/PSO1,PSO2,PSO3 CO3 PO2,PO3,PO5/PSO1,PSO2,PSO4\n",
      "\n",
      "Question: Is there any future work or limitation mentioned?\n",
      "Helpful Answer:\n",
      " Raw LLM Answer:\n",
      " This is a simulated LLM response to the prompt: Context:\n",
      "DEPARTMENT OF COMPUTER ENGINEERING & APPLICATIONS, Institute of Engineering & Technology \n",
      "Course Curriculum (w.e.f. Session 2023-24) B. Tech. Computer Science & Engineering\n",
      "BCSC1807: DESIGN & ANALYSIS OF ALGORITHMS LAB Objective: The objective of this course is that students will understand and implement simple data structures, able demonstrate different sorting and searching techniques. and will be familiar with graphs and their applications.   Credits:01     L-T-P-J:0-0-2-0 Module No. Content  Teaching Hours        I& II          Implementation of sorting algorithms: o Insertion Sort o Bubble Sort o Selection Sort  Divide and conquer approach: o Quick Sort o Merge Sort  Implementation of sorting algorithms: o Heap Sort  o Counting Sort   Implementation of Searching Techniques: o Linear Search o Binary Search  Implementation of Matrix Multiplication   Implementation of Convex Hull   Implementation of Breadth First Search   Implementation of Depth First Search  Implementation of Greedy approaches: o Optimal Reliability Allocation.  o Knapsack. Minimum  o Minimum Spanning trees:  Prim’s and Kruskal’s    algorithms.  o Single source shortest\n",
      "First Search  Implementation of Greedy approaches: o Optimal Reliability Allocation.  o Knapsack. Minimum  o Minimum Spanning trees:  Prim’s and Kruskal’s    algorithms.  o Single source shortest paths –   Dijkstra’s and Bellman Ford algorithms.    Implementation of Dynamic Programming: o Longest Increasing Subsequence.  o Finding best path in maze.  o Matrix Chain Multiplication o 0/1 Knapsack Problem o Resource Allocation Problem 32 Note: All Code must be done in Java as well as Python Focus: This Course focuses on Employability under CO1, CO2, CO3. Outcome: After completion of course, student will be able to: • CO1: Implementation the sorting algorithms like Selection Sort, Bubble Sort, Insertion Sort, Merge Sort, Quick Sort  and Heap Sort. • CO2: Demonstrate and use the appropriate data structures for a given problem • CO3: Implement the algorithms based on Greedy approach and Dynamic Programming.    Mapping of Course Outcomes (COs) with Program Outcomes (POs) and Program\n",
      "data structures for a given problem • CO3: Implement the algorithms based on Greedy approach and Dynamic Programming.    Mapping of Course Outcomes (COs) with Program Outcomes (POs) and Program Specific Outcomes (PSOs):  COs POs/PSOs CO1 PO1,PO2,PO4/PSO1,PSO2,PSO4 CO2 PO1,PO3,PO4/PSO1,PSO2,PSO3 CO3 PO2,PO3,PO5/PSO1,PSO2,PSO4\n",
      "\n",
      "Question: Is there any future work or limitation mentioned?\n",
      "Answer:\n",
      "----------------------------------------------------------------------------------------------------\n",
      "\n",
      " Question: What is the purpose or objective of this document?\n",
      "\n",
      " Retrieved Chunks:\n",
      "\n",
      "Chunk 1:\n",
      "DEPARTMENT OF COMPUTER ENGINEERING & APPLICATIONS, Institute of Engineering & Technology \n",
      "Course Curriculum (w.e.f. Session 2023-24) B. Tech. Computer Science & Engineering...\n",
      "\n",
      "\n",
      "Chunk 2:\n",
      "BCSC1807: DESIGN & ANALYSIS OF ALGORITHMS LAB Objective: The objective of this course is that students will understand and implement simple data structures, able demonstrate different sorting and searching techniques. and will be familiar with graphs and their applications.   Credits:01     L-T-P-J:...\n",
      "\n",
      "\n",
      "Chunk 3:\n",
      "data structures for a given problem • CO3: Implement the algorithms based on Greedy approach and Dynamic Programming.    Mapping of Course Outcomes (COs) with Program Outcomes (POs) and Program Specific Outcomes (PSOs):  COs POs/PSOs CO1 PO1,PO2,PO4/PSO1,PSO2,PSO4 CO2 PO1,PO3,PO4/PSO1,PSO2,PSO3 CO3 ...\n",
      "\n",
      " RAG Answer:\n",
      " This is a simulated LLM response to the prompt: Use the following pieces of context to answer the question at the end. If you don't know the answer, just say that you don't know, don't try to make up an answer.\n",
      "\n",
      "DEPARTMENT OF COMPUTER ENGINEERING & APPLICATIONS, Institute of Engineering & Technology \n",
      "Course Curriculum (w.e.f. Session 2023-24) B. Tech. Computer Science & Engineering\n",
      "\n",
      "BCSC1807: DESIGN & ANALYSIS OF ALGORITHMS LAB Objective: The objective of this course is that students will understand and implement simple data structures, able demonstrate different sorting and searching techniques. and will be familiar with graphs and their applications.   Credits:01     L-T-P-J:0-0-2-0 Module No. Content  Teaching Hours        I& II          Implementation of sorting algorithms: o Insertion Sort o Bubble Sort o Selection Sort  Divide and conquer approach: o Quick Sort o Merge Sort  Implementation of sorting algorithms: o Heap Sort  o Counting Sort   Implementation of Searching Techniques: o Linear Search o Binary Search  Implementation of Matrix Multiplication   Implementation of Convex Hull   Implementation of Breadth First Search   Implementation of Depth First Search  Implementation of Greedy approaches: o Optimal Reliability Allocation.  o Knapsack. Minimum  o Minimum Spanning trees:  Prim’s and Kruskal’s    algorithms.  o Single source shortest\n",
      "\n",
      "data structures for a given problem • CO3: Implement the algorithms based on Greedy approach and Dynamic Programming.    Mapping of Course Outcomes (COs) with Program Outcomes (POs) and Program Specific Outcomes (PSOs):  COs POs/PSOs CO1 PO1,PO2,PO4/PSO1,PSO2,PSO4 CO2 PO1,PO3,PO4/PSO1,PSO2,PSO3 CO3 PO2,PO3,PO5/PSO1,PSO2,PSO4\n",
      "\n",
      "Question: What is the purpose or objective of this document?\n",
      "Helpful Answer:\n",
      " Raw LLM Answer:\n",
      " This is a simulated LLM response to the prompt: Context:\n",
      "DEPARTMENT OF COMPUTER ENGINEERING & APPLICATIONS, Institute of Engineering & Technology \n",
      "Course Curriculum (w.e.f. Session 2023-24) B. Tech. Computer Science & Engineering\n",
      "BCSC1807: DESIGN & ANALYSIS OF ALGORITHMS LAB Objective: The objective of this course is that students will understand and implement simple data structures, able demonstrate different sorting and searching techniques. and will be familiar with graphs and their applications.   Credits:01     L-T-P-J:0-0-2-0 Module No. Content  Teaching Hours        I& II          Implementation of sorting algorithms: o Insertion Sort o Bubble Sort o Selection Sort  Divide and conquer approach: o Quick Sort o Merge Sort  Implementation of sorting algorithms: o Heap Sort  o Counting Sort   Implementation of Searching Techniques: o Linear Search o Binary Search  Implementation of Matrix Multiplication   Implementation of Convex Hull   Implementation of Breadth First Search   Implementation of Depth First Search  Implementation of Greedy approaches: o Optimal Reliability Allocation.  o Knapsack. Minimum  o Minimum Spanning trees:  Prim’s and Kruskal’s    algorithms.  o Single source shortest\n",
      "First Search  Implementation of Greedy approaches: o Optimal Reliability Allocation.  o Knapsack. Minimum  o Minimum Spanning trees:  Prim’s and Kruskal’s    algorithms.  o Single source shortest paths –   Dijkstra’s and Bellman Ford algorithms.    Implementation of Dynamic Programming: o Longest Increasing Subsequence.  o Finding best path in maze.  o Matrix Chain Multiplication o 0/1 Knapsack Problem o Resource Allocation Problem 32 Note: All Code must be done in Java as well as Python Focus: This Course focuses on Employability under CO1, CO2, CO3. Outcome: After completion of course, student will be able to: • CO1: Implementation the sorting algorithms like Selection Sort, Bubble Sort, Insertion Sort, Merge Sort, Quick Sort  and Heap Sort. • CO2: Demonstrate and use the appropriate data structures for a given problem • CO3: Implement the algorithms based on Greedy approach and Dynamic Programming.    Mapping of Course Outcomes (COs) with Program Outcomes (POs) and Program\n",
      "data structures for a given problem • CO3: Implement the algorithms based on Greedy approach and Dynamic Programming.    Mapping of Course Outcomes (COs) with Program Outcomes (POs) and Program Specific Outcomes (PSOs):  COs POs/PSOs CO1 PO1,PO2,PO4/PSO1,PSO2,PSO4 CO2 PO1,PO3,PO4/PSO1,PSO2,PSO3 CO3 PO2,PO3,PO5/PSO1,PSO2,PSO4\n",
      "\n",
      "Question: What is the purpose or objective of this document?\n",
      "Answer:\n",
      "----------------------------------------------------------------------------------------------------\n"
     ]
    },
    {
     "name": "stderr",
     "output_type": "stream",
     "text": [
      "C:\\Users\\anike\\AppData\\Local\\Temp\\ipykernel_18496\\2149761887.py:2: LangChainDeprecationWarning: The method `BaseRetriever.get_relevant_documents` was deprecated in langchain-core 0.1.46 and will be removed in 1.0. Use :meth:`~invoke` instead.\n",
      "  relevant_docs = retriever.get_relevant_documents(query)\n",
      "c:\\Users\\anike\\AppData\\Local\\Programs\\Python\\Python312\\Lib\\site-packages\\torch\\nn\\modules\\module.py:1762: FutureWarning: `encoder_attention_mask` is deprecated and will be removed in version 4.55.0 for `BertSdpaSelfAttention.forward`.\n",
      "  return forward_call(*args, **kwargs)\n",
      "c:\\Users\\anike\\AppData\\Local\\Programs\\Python\\Python312\\Lib\\site-packages\\torch\\nn\\modules\\module.py:1762: FutureWarning: `encoder_attention_mask` is deprecated and will be removed in version 4.55.0 for `BertSdpaSelfAttention.forward`.\n",
      "  return forward_call(*args, **kwargs)\n",
      "C:\\Users\\anike\\AppData\\Local\\Temp\\ipykernel_18496\\2441574792.py:5: LangChainDeprecationWarning: The method `BaseLLM.__call__` was deprecated in langchain-core 0.1.7 and will be removed in 1.0. Use :meth:`~invoke` instead.\n",
      "  answer = llm(prompt)\n",
      "c:\\Users\\anike\\AppData\\Local\\Programs\\Python\\Python312\\Lib\\site-packages\\torch\\nn\\modules\\module.py:1762: FutureWarning: `encoder_attention_mask` is deprecated and will be removed in version 4.55.0 for `BertSdpaSelfAttention.forward`.\n",
      "  return forward_call(*args, **kwargs)\n",
      "c:\\Users\\anike\\AppData\\Local\\Programs\\Python\\Python312\\Lib\\site-packages\\torch\\nn\\modules\\module.py:1762: FutureWarning: `encoder_attention_mask` is deprecated and will be removed in version 4.55.0 for `BertSdpaSelfAttention.forward`.\n",
      "  return forward_call(*args, **kwargs)\n",
      "c:\\Users\\anike\\AppData\\Local\\Programs\\Python\\Python312\\Lib\\site-packages\\torch\\nn\\modules\\module.py:1762: FutureWarning: `encoder_attention_mask` is deprecated and will be removed in version 4.55.0 for `BertSdpaSelfAttention.forward`.\n",
      "  return forward_call(*args, **kwargs)\n",
      "c:\\Users\\anike\\AppData\\Local\\Programs\\Python\\Python312\\Lib\\site-packages\\torch\\nn\\modules\\module.py:1762: FutureWarning: `encoder_attention_mask` is deprecated and will be removed in version 4.55.0 for `BertSdpaSelfAttention.forward`.\n",
      "  return forward_call(*args, **kwargs)\n",
      "c:\\Users\\anike\\AppData\\Local\\Programs\\Python\\Python312\\Lib\\site-packages\\torch\\nn\\modules\\module.py:1762: FutureWarning: `encoder_attention_mask` is deprecated and will be removed in version 4.55.0 for `BertSdpaSelfAttention.forward`.\n",
      "  return forward_call(*args, **kwargs)\n",
      "c:\\Users\\anike\\AppData\\Local\\Programs\\Python\\Python312\\Lib\\site-packages\\torch\\nn\\modules\\module.py:1762: FutureWarning: `encoder_attention_mask` is deprecated and will be removed in version 4.55.0 for `BertSdpaSelfAttention.forward`.\n",
      "  return forward_call(*args, **kwargs)\n",
      "c:\\Users\\anike\\AppData\\Local\\Programs\\Python\\Python312\\Lib\\site-packages\\torch\\nn\\modules\\module.py:1762: FutureWarning: `encoder_attention_mask` is deprecated and will be removed in version 4.55.0 for `BertSdpaSelfAttention.forward`.\n",
      "  return forward_call(*args, **kwargs)\n",
      "c:\\Users\\anike\\AppData\\Local\\Programs\\Python\\Python312\\Lib\\site-packages\\torch\\nn\\modules\\module.py:1762: FutureWarning: `encoder_attention_mask` is deprecated and will be removed in version 4.55.0 for `BertSdpaSelfAttention.forward`.\n",
      "  return forward_call(*args, **kwargs)\n"
     ]
    }
   ],
   "source": [
    "for q in questions:\n",
    "    ask_with_retriever(qa_chain, retriever, q)\n",
    "    ask_without_retriever(llm, q)\n",
    "    print(\"-\" * 100)"
   ]
  },
  {
   "cell_type": "code",
   "execution_count": null,
   "metadata": {
    "id": "tg9BQJSgfm9B"
   },
   "outputs": [],
   "source": []
  }
 ],
 "metadata": {
  "colab": {
   "provenance": []
  },
  "kernelspec": {
   "display_name": "Python 3",
   "name": "python3"
  },
  "language_info": {
   "codemirror_mode": {
    "name": "ipython",
    "version": 3
   },
   "file_extension": ".py",
   "mimetype": "text/x-python",
   "name": "python",
   "nbconvert_exporter": "python",
   "pygments_lexer": "ipython3",
   "version": "3.12.10"
  }
 },
 "nbformat": 4,
 "nbformat_minor": 0
}
